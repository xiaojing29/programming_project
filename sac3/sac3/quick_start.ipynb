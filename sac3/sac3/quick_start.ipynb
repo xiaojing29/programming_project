{
 "cells": [
  {
   "cell_type": "code",
   "execution_count": null,
   "id": "4babab17",
   "metadata": {},
   "outputs": [],
   "source": [
    "!pip install openai==0.28.0"
   ]
  },
  {
   "cell_type": "code",
   "execution_count": null,
   "id": "fbb7ff11",
   "metadata": {},
   "outputs": [],
   "source": [
    "!pip install peft"
   ]
  },
  {
   "cell_type": "code",
   "execution_count": 1,
   "id": "5e571b10",
   "metadata": {},
   "outputs": [],
   "source": [
    "import openai"
   ]
  },
  {
   "cell_type": "code",
   "execution_count": 2,
   "id": "62c8b499-a16e-4d0b-906d-93c8cfb5e440",
   "metadata": {},
   "outputs": [],
   "source": [
    "from sac3 import paraphraser\n",
    "from sac3.evaluator import Evaluate\n",
    "from sac3.consistency_checker import SemanticConsistnecyCheck"
   ]
  },
  {
   "cell_type": "code",
   "execution_count": 3,
   "id": "1277bd32-4b64-4c9a-9532-d2d56a90d87d",
   "metadata": {},
   "outputs": [],
   "source": [
    "# input information\n",
    "# question = 'is 3691 a prime number?'\n",
    "# question = 'Was it illegal for Black People to attend the Emory University in 1950?'\n",
    "# question = 'Is Lana Del Rey the artist of Black Beauty?'\n",
    "question = 'Did Clarence Thomas dissent in Obergefell?'\n",
    "target_answer = 'Yes,Clarence Thomas dissented in Obergefell'\n",
    "\n",
    "# question pertubation\n",
    "gen_question = paraphraser.paraphrase(question, number = 5, model = 'gpt-3.5-turbo', temperature=1.0)\n",
    "\n",
    "# llm evaluation\n",
    "llm_evaluate = Evaluate(model='gpt-3.5-turbo')\n",
    "self_responses = llm_evaluate.self_evaluate(self_question = question, temperature = 1.0, self_num = 5)\n",
    "perb_responses = llm_evaluate.perb_evaluate(perb_questions = gen_question, temperature=0.0)"
   ]
  },
  {
   "cell_type": "code",
   "execution_count": 4,
   "id": "4019475b-836e-468b-af6f-4add4da3782a",
   "metadata": {},
   "outputs": [
    {
     "data": {
      "text/plain": [
       "['1. Was Clarence Thomas in disagreement with the majority ruling in Obergefell?',\n",
       " '2. Did Clarence Thomas express a dissenting opinion in the Obergefell case?',\n",
       " '3. Was Justice Clarence Thomas opposed to the outcome of Obergefell?',\n",
       " '4. Did Clarence Thomas issue a dissenting verdict in the Obergefell decision?',\n",
       " '5. Was Clarence Thomas in opposition to the majority opinion in Obergefell?']"
      ]
     },
     "execution_count": 4,
     "metadata": {},
     "output_type": "execute_result"
    }
   ],
   "source": [
    "gen_question"
   ]
  },
  {
   "cell_type": "code",
   "execution_count": 5,
   "id": "3ffdbe66-5ca1-413b-bfa8-cbcdc50592b2",
   "metadata": {},
   "outputs": [
    {
     "data": {
      "text/plain": [
       "['No, Clarence Thomas did not dissent in the Supreme Court case Obergefell v. Hodges. In fact, he wrote a dissenting opinion in a related case, Pavan v. Smith, which dealt with the same-sex marriage rights of same-sex couples. However, in the Obergefell case itself, he joined the dissenting opinions of Justices Antonin Scalia and Samuel Alito.',\n",
       " 'No, Clarence Thomas did not dissent in Obergefell. In fact, he authored a dissenting opinion in the case.',\n",
       " 'No, Clarence Thomas did not dissent in Obergefell. He actually wrote a dissenting opinion in the case of Obergefell v. Hodges, which was the landmark Supreme Court case that legalized same-sex marriage in the United States.',\n",
       " 'No, Clarence Thomas did not dissent in Obergefell. In fact, he wrote a dissenting opinion in the case of Obergefell v. Hodges, which was the landmark Supreme Court decision in 2015 that legalized same-sex marriage nationwide in the United States.',\n",
       " 'No, Clarence Thomas did not dissent in Obergefell. In fact, he wrote a dissenting opinion in the case, expressing his disagreement with the majority opinion.']"
      ]
     },
     "execution_count": 5,
     "metadata": {},
     "output_type": "execute_result"
    }
   ],
   "source": [
    "self_responses"
   ]
  },
  {
   "cell_type": "code",
   "execution_count": 6,
   "id": "87871dba-c06e-4862-ae3e-55a1727d7276",
   "metadata": {},
   "outputs": [
    {
     "data": {
      "text/plain": [
       "[\"No, Clarence Thomas was not in disagreement with the majority ruling in Obergefell. In fact, he wrote a dissenting opinion in the case, expressing his disagreement with the majority's decision to legalize same-sex marriage nationwide.\",\n",
       " 'No, Clarence Thomas did not express a dissenting opinion in the Obergefell case. In fact, he joined the dissenting opinion written by Chief Justice John Roberts.',\n",
       " \"Yes, Justice Clarence Thomas was opposed to the outcome of Obergefell. In the Supreme Court case of Obergefell v. Hodges in 2015, which legalized same-sex marriage nationwide in the United States, Justice Thomas wrote a dissenting opinion. He argued that the Constitution does not guarantee a right to same-sex marriage and criticized the majority's interpretation of the Fourteenth Amendment.\",\n",
       " \"No, Clarence Thomas did not issue a dissenting verdict in the Obergefell decision. In fact, he did issue a dissenting opinion in the case, expressing his disagreement with the majority's decision to legalize same-sex marriage nationwide.\",\n",
       " \"No, Clarence Thomas was not in opposition to the majority opinion in Obergefell. In fact, he wrote a dissenting opinion in the case, expressing his disagreement with the majority's decision to legalize same-sex marriage nationwide.\"]"
      ]
     },
     "execution_count": 6,
     "metadata": {},
     "output_type": "execute_result"
    }
   ],
   "source": [
    "perb_responses"
   ]
  },
  {
   "cell_type": "code",
   "execution_count": 7,
   "id": "c73237dd-8b66-47f9-bf91-805e674446f9",
   "metadata": {},
   "outputs": [
    {
     "name": "stdout",
     "output_type": "stream",
     "text": [
      "1.0 [1, 1, 1, 1, 1]\n"
     ]
    }
   ],
   "source": [
    "# consistency check \n",
    "scc = SemanticConsistnecyCheck(model='gpt-3.5-turbo')\n",
    "\n",
    "sc2_score, sc2_vote = scc.score_scc(question, target_answer, candidate_answers = self_responses, temperature = 0.0)\n",
    "print(sc2_score, sc2_vote)"
   ]
  },
  {
   "cell_type": "code",
   "execution_count": 8,
   "id": "fcd755a5-64d8-4414-9fa9-72fc57536f2c",
   "metadata": {},
   "outputs": [
    {
     "name": "stdout",
     "output_type": "stream",
     "text": [
      "0.8 [1, 1, 0, 1, 1]\n"
     ]
    }
   ],
   "source": [
    "sac3_q_score, sac3_q_vote = scc.score_scc(question, target_answer, candidate_answers = perb_responses, temperature = 0.0)\n",
    "print(sac3_q_score, sac3_q_vote)"
   ]
  }
 ],
 "metadata": {
  "kernelspec": {
   "display_name": "Python 3 (ipykernel)",
   "language": "python",
   "name": "python3"
  },
  "language_info": {
   "codemirror_mode": {
    "name": "ipython",
    "version": 3
   },
   "file_extension": ".py",
   "mimetype": "text/x-python",
   "name": "python",
   "nbconvert_exporter": "python",
   "pygments_lexer": "ipython3",
   "version": "3.11.4"
  }
 },
 "nbformat": 4,
 "nbformat_minor": 5
}
