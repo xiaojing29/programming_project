{
 "cells": [
  {
   "cell_type": "code",
   "execution_count": null,
   "id": "4babab17",
   "metadata": {},
   "outputs": [],
   "source": [
    "!pip install openai==0.28.0"
   ]
  },
  {
   "cell_type": "code",
   "execution_count": null,
   "id": "fbb7ff11",
   "metadata": {},
   "outputs": [],
   "source": [
    "!pip install peft"
   ]
  },
  {
   "cell_type": "code",
   "execution_count": 1,
   "id": "5e571b10",
   "metadata": {},
   "outputs": [],
   "source": [
    "import openai"
   ]
  },
  {
   "cell_type": "code",
   "execution_count": 2,
   "id": "62c8b499-a16e-4d0b-906d-93c8cfb5e440",
   "metadata": {},
   "outputs": [],
   "source": [
    "from sac3 import paraphraser\n",
    "from sac3.evaluator import Evaluate\n",
    "from sac3.consistency_checker import SemanticConsistnecyCheck"
   ]
  },
  {
   "cell_type": "code",
   "execution_count": 27,
   "id": "1277bd32-4b64-4c9a-9532-d2d56a90d87d",
   "metadata": {},
   "outputs": [],
   "source": [
    "# input information\n",
    "# question = 'is 3691 a prime number?'\n",
    "# question = 'Was it illegal for Black People to attend the Emory University in 1950?'\n",
    "# question = 'Is Lana Del Rey the artist of Black Beauty?'\n",
    "question = 'Did Clarence Thomas dissent in Obergefell?'\n",
    "target_answer = 'Yes,Clarence Thomas dissented in Obergefell'\n",
    "\n",
    "# question pertubation\n",
    "gen_question = paraphraser.paraphrase(question, number = 5, model = 'gpt-3.5-turbo', temperature=1.0)\n",
    "\n",
    "# llm evaluation\n",
    "llm_evaluate = Evaluate(model='gpt-3.5-turbo')\n",
    "self_responses = llm_evaluate.self_evaluate(self_question = question, temperature = 1.0, self_num = 5)\n",
    "perb_responses = llm_evaluate.perb_evaluate(perb_questions = gen_question, temperature=0.0)"
   ]
  },
  {
   "cell_type": "code",
   "execution_count": 28,
   "id": "4019475b-836e-468b-af6f-4add4da3782a",
   "metadata": {},
   "outputs": [
    {
     "data": {
      "text/plain": [
       "['1. Is Black Beauty performed by Lana Del Rey?',\n",
       " '2. Did Lana Del Rey sing the song Black Beauty?',\n",
       " '3. Is Lana Del Rey the singer of Black Beauty?',\n",
       " '4. Did Lana Del Rey record the track Black Beauty?',\n",
       " '5. Is Black Beauty by Lana Del Rey?']"
      ]
     },
     "execution_count": 28,
     "metadata": {},
     "output_type": "execute_result"
    }
   ],
   "source": [
    "gen_question"
   ]
  },
  {
   "cell_type": "code",
   "execution_count": 29,
   "id": "3ffdbe66-5ca1-413b-bfa8-cbcdc50592b2",
   "metadata": {},
   "outputs": [
    {
     "data": {
      "text/plain": [
       "['Yes, Lana Del Rey is the artist of the song \"Black Beauty.\"',\n",
       " 'Yes, Lana Del Rey is the artist of the song \"Black Beauty.\"',\n",
       " 'Yes, Lana Del Rey is the artist of the song \"Black Beauty.\"',\n",
       " 'Yes, Lana Del Rey is the artist of the song \"Black Beauty.\"',\n",
       " 'Yes, Lana Del Rey is the artist of the song \"Black Beauty\".']"
      ]
     },
     "execution_count": 29,
     "metadata": {},
     "output_type": "execute_result"
    }
   ],
   "source": [
    "self_responses"
   ]
  },
  {
   "cell_type": "code",
   "execution_count": 30,
   "id": "87871dba-c06e-4862-ae3e-55a1727d7276",
   "metadata": {},
   "outputs": [
    {
     "data": {
      "text/plain": [
       "['No, Black Beauty is not performed by Lana Del Rey. It is a song by Lana Del Rey, but it is not performed by her.',\n",
       " 'Yes, Lana Del Rey did sing the song \"Black Beauty.\" It is a track from her third studio album, \"Ultraviolence,\" released in 2014.',\n",
       " 'Yes, Lana Del Rey is the singer of the song \"Black Beauty.\"',\n",
       " 'Yes, Lana Del Rey recorded the track \"Black Beauty.\" It is a song from her third studio album, \"Ultraviolence,\" released in 2014.',\n",
       " 'No, Black Beauty is not by Lana Del Rey. It is a song by Lana Del Rey, but it is not the title of one of her albums.']"
      ]
     },
     "execution_count": 30,
     "metadata": {},
     "output_type": "execute_result"
    }
   ],
   "source": [
    "perb_responses"
   ]
  },
  {
   "cell_type": "code",
   "execution_count": 31,
   "id": "c73237dd-8b66-47f9-bf91-805e674446f9",
   "metadata": {},
   "outputs": [
    {
     "name": "stdout",
     "output_type": "stream",
     "text": [
      "0.0 [0, 0, 0, 0, 0]\n"
     ]
    }
   ],
   "source": [
    "# consistency check \n",
    "scc = SemanticConsistnecyCheck(model='gpt-3.5-turbo')\n",
    "\n",
    "sc2_score, sc2_vote = scc.score_scc(question, target_answer, candidate_answers = self_responses, temperature = 0.0)\n",
    "print(sc2_score, sc2_vote)"
   ]
  },
  {
   "cell_type": "code",
   "execution_count": 32,
   "id": "fcd755a5-64d8-4414-9fa9-72fc57536f2c",
   "metadata": {},
   "outputs": [
    {
     "name": "stdout",
     "output_type": "stream",
     "text": [
      "0.4 [1, 0, 0, 0, 1]\n"
     ]
    }
   ],
   "source": [
    "sac3_q_score, sac3_q_vote = scc.score_scc(question, target_answer, candidate_answers = perb_responses, temperature = 0.0)\n",
    "print(sac3_q_score, sac3_q_vote)"
   ]
  },
  {
   "cell_type": "code",
   "execution_count": null,
   "id": "ad54aab3",
   "metadata": {},
   "outputs": [],
   "source": []
  }
 ],
 "metadata": {
  "kernelspec": {
   "display_name": "Python 3 (ipykernel)",
   "language": "python",
   "name": "python3"
  },
  "language_info": {
   "codemirror_mode": {
    "name": "ipython",
    "version": 3
   },
   "file_extension": ".py",
   "mimetype": "text/x-python",
   "name": "python",
   "nbconvert_exporter": "python",
   "pygments_lexer": "ipython3",
   "version": "3.11.4"
  }
 },
 "nbformat": 4,
 "nbformat_minor": 5
}
